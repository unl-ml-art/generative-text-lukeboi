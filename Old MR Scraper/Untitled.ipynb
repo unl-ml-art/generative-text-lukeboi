{
 "cells": [
  {
   "cell_type": "code",
   "execution_count": 3,
   "id": "4d3eab70-e625-4b78-9ba8-bf0c2b6c129d",
   "metadata": {},
   "outputs": [],
   "source": [
    "# MR scraper\n",
    "# https://marginalrevolution.com/\n",
    "# curl -o example.html https://marginalrevolution.com/ charset=utf-8\""
   ]
  },
  {
   "cell_type": "code",
   "execution_count": 4,
   "id": "9b3d33cd-d2b1-4b02-955b-ede441945a95",
   "metadata": {},
   "outputs": [
    {
     "name": "stdout",
     "output_type": "stream",
     "text": [
      "Defaulting to user installation because normal site-packages is not writeable\n",
      "Requirement already satisfied: requests in /util/opt/anaconda/deployed-conda-envs/packages/jupyterlab/envs/jupyterlab-3.0.16/lib/python3.8/site-packages (2.26.0)\n",
      "Requirement already satisfied: idna<4,>=2.5 in /util/opt/anaconda/deployed-conda-envs/packages/jupyterlab/envs/jupyterlab-3.0.16/lib/python3.8/site-packages (from requests) (3.1)\n",
      "Requirement already satisfied: certifi>=2017.4.17 in /util/opt/anaconda/deployed-conda-envs/packages/jupyterlab/envs/jupyterlab-3.0.16/lib/python3.8/site-packages (from requests) (2021.10.8)\n",
      "Requirement already satisfied: charset-normalizer~=2.0.0 in /util/opt/anaconda/deployed-conda-envs/packages/jupyterlab/envs/jupyterlab-3.0.16/lib/python3.8/site-packages (from requests) (2.0.9)\n",
      "Requirement already satisfied: urllib3<1.27,>=1.21.1 in /util/opt/anaconda/deployed-conda-envs/packages/jupyterlab/envs/jupyterlab-3.0.16/lib/python3.8/site-packages (from requests) (1.26.7)\n"
     ]
    }
   ],
   "source": [
    "!python -m pip install requests"
   ]
  },
  {
   "cell_type": "code",
   "execution_count": 11,
   "id": "69c0e63d-f56c-492d-9452-30309e6fd027",
   "metadata": {},
   "outputs": [],
   "source": [
    "import requests\n",
    "import time\n",
    "\n",
    "base_url = \"https://marginalrevolution.com/page/\"\n",
    "    \n",
    "for i in range(10):\n",
    "    r = requests.get(base_url + str(i + 1))\n",
    "\n",
    "    with open(\"response-%d.html\" % i, \"w\") as f:\n",
    "        f.write(r.text)\n",
    "\n",
    "    time.sleep(3)"
   ]
  },
  {
   "cell_type": "code",
   "execution_count": null,
   "id": "5ff68615-c0f2-435a-9fef-6247d14087e9",
   "metadata": {},
   "outputs": [],
   "source": []
  }
 ],
 "metadata": {
  "kernelspec": {
   "display_name": "Python 3.8",
   "language": "python",
   "name": "python-3.8"
  },
  "language_info": {
   "codemirror_mode": {
    "name": "ipython",
    "version": 3
   },
   "file_extension": ".py",
   "mimetype": "text/x-python",
   "name": "python",
   "nbconvert_exporter": "python",
   "pygments_lexer": "ipython3",
   "version": "3.8.5"
  }
 },
 "nbformat": 4,
 "nbformat_minor": 5
}

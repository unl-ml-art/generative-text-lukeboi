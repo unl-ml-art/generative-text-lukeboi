{
 "cells": [
  {
   "cell_type": "code",
   "execution_count": null,
   "id": "4d3eab70-e625-4b78-9ba8-bf0c2b6c129d",
   "metadata": {},
   "outputs": [],
   "source": [
    "# MR scraper\n",
    "# https://marginalrevolution.com/\n",
    "# curl -o example.html https://marginalrevolution.com/ charset=utf-8\""
   ]
  },
  {
   "cell_type": "code",
   "execution_count": 2,
   "id": "9b3d33cd-d2b1-4b02-955b-ede441945a95",
   "metadata": {},
   "outputs": [
    {
     "name": "stderr",
     "output_type": "stream",
     "text": [
      "UsageError: Line magic function `%` not found.\n"
     ]
    }
   ],
   "source": [
    "!python -m pip install requests"
   ]
  },
  {
   "cell_type": "code",
   "execution_count": null,
   "id": "69c0e63d-f56c-492d-9452-30309e6fd027",
   "metadata": {},
   "outputs": [],
   "source": []
  }
 ],
 "metadata": {
  "kernelspec": {
   "display_name": "Python 3.8",
   "language": "python",
   "name": "python-3.8"
  },
  "language_info": {
   "codemirror_mode": {
    "name": "ipython",
    "version": 3
   },
   "file_extension": ".py",
   "mimetype": "text/x-python",
   "name": "python",
   "nbconvert_exporter": "python",
   "pygments_lexer": "ipython3",
   "version": "3.8.5"
  }
 },
 "nbformat": 4,
 "nbformat_minor": 5
}

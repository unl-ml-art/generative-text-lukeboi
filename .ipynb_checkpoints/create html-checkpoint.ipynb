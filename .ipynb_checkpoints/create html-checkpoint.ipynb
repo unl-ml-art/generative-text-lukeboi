{
 "cells": [
  {
   "cell_type": "code",
   "execution_count": 16,
   "id": "54444534-8274-479f-b1aa-f2bcab5e8eb8",
   "metadata": {},
   "outputs": [],
   "source": [
    "import os\n",
    "\n",
    "base_location = \"MR Base.html\"\n",
    "output_location = \"Full generation.html\"\n",
    "gen_text_location = \"output.txt\"\n",
    "\n",
    "single_comment = \"\"\"\n",
    "                <div class=\"byline\">\n",
    "                  <div class=\"comment-meta\">\n",
    "                  <h3 class=\"comment-author\">A New Comment</h3>\n",
    "                  </div>\n",
    "                  \n",
    "                  <div class=\"comment-controls\">\n",
    "                    \n",
    "                    <span class=\"admin-controls\">\n",
    "                    | <a href=\"/wp-admin/comment.php?action=cdc&amp;c=160398762'\">Del</a> \n",
    "                    | <a href=\"/wp-admin/comment.php?action=spam&amp;c=160398762'\">Spam</a> \n",
    "                    </span>\n",
    "                  </div>\n",
    "                </div><!-- /.byline -->\n",
    "\n",
    "                <div class=\"comment-content\">\n",
    "                  <p>Example Text</p>\n",
    "\n",
    "                </div><!-- /.comment-content -->\"\"\"\n",
    "\n",
    "# get template\n",
    "f = open(base_location, \"r\")\n",
    "base = f.read()\n",
    "f.close()\n",
    "insert_index = base.find(\"INSERT HERE\") + 20\n",
    "\n",
    "\n",
    "# get insertion\n",
    "insertion = \"\"\n",
    "f = open(gen_text_location, \"r\")\n",
    "gen_text = f.read().split(\"A new comment:\")\n",
    "for generation in gen_text:\n",
    "    insertion += single_comment.replace(\"Example Text\", generation)\n",
    "\n",
    "# combine insertion with template and write product\n",
    "if os.path.exists(output_location):\n",
    "    os.remove(output_location)\n",
    "\n",
    "f = open(output_location, \"w\")\n",
    "f.write(base[:insert_index] + insertion + base[insert_index:])\n",
    "f.close()"
   ]
  },
  {
   "cell_type": "code",
   "execution_count": null,
   "id": "372724db-e85e-4927-a95d-96f33de5dacb",
   "metadata": {},
   "outputs": [],
   "source": []
  },
  {
   "cell_type": "code",
   "execution_count": null,
   "id": "ea23bda3-eae6-44c4-a6af-e0a17791c6b2",
   "metadata": {},
   "outputs": [],
   "source": []
  }
 ],
 "metadata": {
  "kernelspec": {
   "display_name": "Python 3 (ipykernel)",
   "language": "python",
   "name": "python3"
  },
  "language_info": {
   "codemirror_mode": {
    "name": "ipython",
    "version": 3
   },
   "file_extension": ".py",
   "mimetype": "text/x-python",
   "name": "python",
   "nbconvert_exporter": "python",
   "pygments_lexer": "ipython3",
   "version": "3.8.12"
  }
 },
 "nbformat": 4,
 "nbformat_minor": 5
}

{
 "cells": [
  {
   "cell_type": "code",
   "execution_count": 1,
   "id": "371247be-a37e-43a4-b615-79403fb0e8dd",
   "metadata": {},
   "outputs": [
    {
     "name": "stderr",
     "output_type": "stream",
     "text": [
      "2022-02-22 03:45:29.159475: I tensorflow/core/platform/cpu_feature_guard.cc:142] This TensorFlow binary is optimized with oneAPI Deep Neural Network Library (oneDNN) to use the following CPU instructions in performance-critical operations:  SSE4.1 SSE4.2 AVX AVX2 AVX512F FMA\n",
      "To enable them in other operations, rebuild TensorFlow with the appropriate compiler flags.\n",
      "2022-02-22 03:45:29.823668: I tensorflow/core/common_runtime/gpu/gpu_device.cc:1510] Created device /job:localhost/replica:0/task:0/device:GPU:0 with 28448 MB memory:  -> device: 0, name: Tesla V100-PCIE-32GB, pci bus id: 0000:d8:00.0, compute capability: 7.0\n"
     ]
    },
    {
     "name": "stdout",
     "output_type": "stream",
     "text": [
      "Loading checkpoint checkpoint/run1/model-300\n",
      "INFO:tensorflow:Restoring parameters from checkpoint/run1/model-300\n",
      "- Advertisement -\n",
      "A new comment:\n",
      "I just spent two weeks in a halfway house for a mental health issue. It was horrible. Demanding my help (disturbed consumption becoming a preferred option) was like asking permission to drive a minibus. It's side effects include paranoia, flashbacks, loss of judgement, impotence, and worse. I don't remember ever feeling more alone in our experience.\n",
      "A new comment:\n",
      "\"Love lives. love lives, the annoying and horrible Dykeland State.\"\n",
      "A new comment:\n",
      "Anyone putting much effort into the idea that there is such a thing as a \"good\" podcasts enough time to consider.\n",
      "A new comment:\n",
      "Time to get some real estate deals done in the real estate world. Apartment blocks built in the 1960's are the norm in our lifetime. And the vast majority of current and former home built in the last 30 years are in the low single digits. Apartment blocks built in the late 1990's are in the mid to late 2000's home percentage in the late 2000's home percentage in the 2000's home percentage in the 15 years following is in the low single digits. Apartment blocks built in the boom years are not going anywhere. In fact, the high single digits have already started coming out of the toilet. In a word, time to get serious about buying and building. There is no better time to solve the nation's housing crisis than now.\n",
      "A new comment:\n",
      "Time to get the American people out of the political games and into the political games of actual estate planning. Allocating an \"actual estate\" is a farce because it has been used to try and stop LLCs in the near future. It is extremely risky because of the many risks. Also the expensive LLCs in the near future will be the ones coming out of the woodwork. They are one of the few things that is not subject to market forces. LLCs are a good thing for real estate because they are subject to the moderate to severe depreciation rules that most other types of property have. The problem with \"expensive\" LLC's is that they are expensive - in decades to come they will be expensive again. This is not a surprise because of the nature of the physical estate. The size of the estate and the nature of the testing regime mean that any successful approach to the problem will have to be based on a large and accurate depiction of the physical structure of the estate to be economically feasible. The physical examination and measurement of the estate, along with the physical measurements of the test bed, have been the major means of doing just that. The rise in home ownership in the past two decades is contributing to this change. (About the Author Sarah J. Coase has been writing about politics, economics, and personal development for publications such as The New York Times Bestsellers list, The Wall Street Journal Bestsellers list, and Advertising Age Journal of the New York Times Bestsellers list). Her books, LinkedIn profile, and Twitter handle are very well-known for their sophisticated analysis of the political world, but they differ from one politician to the next, and their success depends on the way they are interpreted by the other politicians. They differ from one party to the next in their willingness to compromise, and their success depends on how their willingness to compromise is interpreted. I tend to see this in my coverage of the University of Chicago football team, which they were not supposed to be different from the rest of the University of Chicago. I was covering the Bulldogs practice facility on Thursday, and the football players came out to show their support for the University of Chicago. The players were very loud in their praise for the University of Chicago, and I was not supposed to be watching the University of Chicago football game, so I was not impressed. But then the MaskerMundus commentated once more, this time with a different opinion: https://www.youtube.com/watch?v=b8xjdNNlW38\n",
      "A new comment:\n",
      "The University of Chicago is different from any other corporation, a word that should come as no surprise. The University of Chicago is a part of the labor movement, a part of the academic labor movement, a part of the Irish labor movement, a part of the Harvard labor movement, a part of the Irish civil rights movement, and a part of the Irish civil rights movement as well. Yes, there are all kinds of reasons why the University of Chicago is different from any other institution, from the labor movement to the charitable giving behavior of the Irish community to the educational achievements of the Harvard Business Review. But the point is that the labor movement and the Irish civil rights movement were led by men, and the initiatives of the Irish civil rights movement were led by women. The degree of sexism inherent in the discussion of whether the University of Chicago should become a bastion of women's rights is beyond me.\n",
      "A new comment:\n",
      "There is no such thing as an \"excellent tweet storm.\" In fact, anyone who uses\n"
     ]
    }
   ],
   "source": [
    "import gpt_2_simple as gpt2\n",
    "\n",
    "sess = gpt2.start_tf_sess()\n",
    "gpt2.load_gpt2(sess)\n",
    "\n",
    "single_text = gpt2.generate(sess, return_as_list=True)[0]\n",
    "print(single_text)\n",
    "\n",
    "\n",
    "file = \"output.txt\"\n",
    "\n",
    "# if os.path.exists(file):\n",
    "#     os.remove(file)\n",
    "\n",
    "f = open(file, \"w\")\n",
    "f.write(single_text)\n",
    "f.close()"
   ]
  },
  {
   "cell_type": "code",
   "execution_count": null,
   "id": "7e25b701-3ff3-4372-a931-8d7d0b9658d2",
   "metadata": {},
   "outputs": [],
   "source": []
  },
  {
   "cell_type": "code",
   "execution_count": null,
   "id": "367c8956-3ced-4336-81b1-b22ef7933cf5",
   "metadata": {},
   "outputs": [],
   "source": []
  }
 ],
 "metadata": {
  "kernelspec": {
   "display_name": "TensorFlow GPU 2.6 (py39)",
   "language": "python",
   "name": "tensorflow-gpu-2.6-py39"
  },
  "language_info": {
   "codemirror_mode": {
    "name": "ipython",
    "version": 3
   },
   "file_extension": ".py",
   "mimetype": "text/x-python",
   "name": "python",
   "nbconvert_exporter": "python",
   "pygments_lexer": "ipython3",
   "version": "3.9.7"
  }
 },
 "nbformat": 4,
 "nbformat_minor": 5
}
